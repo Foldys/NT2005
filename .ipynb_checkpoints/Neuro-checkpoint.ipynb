{
 "cells": [
  {
   "cell_type": "code",
   "execution_count": 3,
   "metadata": {},
   "outputs": [
    {
     "ename": "ModuleNotFoundError",
     "evalue": "No module named 'importData'",
     "output_type": "error",
     "traceback": [
      "\u001b[1;31m---------------------------------------------------------------------------\u001b[0m",
      "\u001b[1;31mModuleNotFoundError\u001b[0m                       Traceback (most recent call last)",
      "\u001b[1;32m<ipython-input-3-8ec817c66d98>\u001b[0m in \u001b[0;36m<module>\u001b[1;34m\u001b[0m\n\u001b[0;32m     23\u001b[0m \u001b[1;33m\u001b[0m\u001b[0m\n\u001b[0;32m     24\u001b[0m \u001b[1;33m\u001b[0m\u001b[0m\n\u001b[1;32m---> 25\u001b[1;33m \u001b[1;32mfrom\u001b[0m \u001b[0mimportData\u001b[0m \u001b[1;32mimport\u001b[0m \u001b[0mimportData\u001b[0m\u001b[1;33m\u001b[0m\u001b[1;33m\u001b[0m\u001b[0m\n\u001b[0m\u001b[0;32m     26\u001b[0m \u001b[1;32mimport\u001b[0m \u001b[0mmatplotlib\u001b[0m\u001b[1;33m.\u001b[0m\u001b[0mpyplot\u001b[0m \u001b[1;32mas\u001b[0m \u001b[0mplt\u001b[0m\u001b[1;33m\u001b[0m\u001b[1;33m\u001b[0m\u001b[0m\n\u001b[0;32m     27\u001b[0m \u001b[0mD\u001b[0m \u001b[1;33m=\u001b[0m \u001b[0mimportData\u001b[0m\u001b[1;33m(\u001b[0m\u001b[1;33m)\u001b[0m\u001b[1;33m\u001b[0m\u001b[1;33m\u001b[0m\u001b[0m\n",
      "\u001b[1;31mModuleNotFoundError\u001b[0m: No module named 'importData'"
     ]
    }
   ],
   "source": [
    "def importData():\n",
    "    import scipy.io as sio    \n",
    "    x = sio.loadmat('data_v1_binned_static.mat') # this presumes the file is in the same directory\n",
    "    x = x['data']\n",
    "    data = {}\n",
    "    for i in range(0, len(x)): # loop on recording sessions\n",
    "        data[i] = {}\n",
    "        y = x[i][0][0][0] \n",
    "        data[i]['date'] = y[0][0]\n",
    "        data[i]['subject'] = y[1][0]\n",
    "        data[i]['conditions'] = {} # we deal with y[2][0] below\n",
    "        data[i]['contamination'] = y[3][0]\n",
    "        data[i]['tetrode'] = y[4][0]\n",
    "        data[i]['spikes'] = y[5] # 4-dim array, check out data[i]['spikes'].shape\n",
    "        data[i]['times'] = y[6][0]   \n",
    "        z = y[2][0]\n",
    "        for c in range(0, len(z)):\n",
    "            data[i]['conditions'][c] = {}\n",
    "            data[i]['conditions'][c]['contrast'] =  z['contrast'][c][0][0]\n",
    "            data[i]['conditions'][c]['orientation'] = z['orientation'][c][0][0]\n",
    "    return data\n",
    "\n",
    "\n",
    "\n",
    "from importData import importData\n",
    "import matplotlib.pyplot as plt\n",
    "D = importData()\n",
    "\n",
    "s = 6\n",
    "D = D[s] # pick recording session s\n",
    "\n",
    "print('In session ' + str(s) + ' there are ' + str(D['spikes'].shape[0]) + ' neurons, ' + \\\n",
    "      str(D['spikes'].shape[1]) + ' conditions, ' + \\\n",
    "      str(D['spikes'].shape[2]) + ' time bins and ' + \\\n",
    "      str(D['spikes'].shape[3]) + ' trials (repeats)')\n",
    "\n",
    "n = 9 # neuron\n",
    "c = 2 # condition\n",
    "t = 6 # trial\n",
    "\n",
    "# plot a single trial of one neuron (in a particular stimulation condition)\n",
    "plt.figure(0)\n",
    "plt.plot(D['times'], D['spikes'][n,c,:,t])\n",
    "plt.xlabel('Time (ms)')\n",
    "plt.ylabel('#spikes')\n",
    "plt.title('Session: ' + str(s) + ', neuron: ' + str(n) + \\\n",
    "                 ', trial: ' + str(t) + \\\n",
    "                 ', condition: ' + str(D['conditions'][c]))\n",
    "\n",
    "\n",
    "# plot the total number of spikes per each trial for one condition\n",
    "plt.figure(1)\n",
    "plt.plot(D['spikes'][n,c,:,:].sum(axis=0))\n",
    "plt.xlabel('Trial')\n",
    "plt.ylabel('#spikes')\n",
    "plt.title('Session: ' + str(s) + ', neuron: ' + str(n) + \\\n",
    "                 ', total number of spikes in each trial of condition: ' + str(D['conditions'][c]))"
   ]
  }
 ],
 "metadata": {
  "kernelspec": {
   "display_name": "Python 3",
   "language": "python",
   "name": "python3"
  },
  "language_info": {
   "codemirror_mode": {
    "name": "ipython",
    "version": 3
   },
   "file_extension": ".py",
   "mimetype": "text/x-python",
   "name": "python",
   "nbconvert_exporter": "python",
   "pygments_lexer": "ipython3",
   "version": "3.8.5"
  }
 },
 "nbformat": 4,
 "nbformat_minor": 4
}
